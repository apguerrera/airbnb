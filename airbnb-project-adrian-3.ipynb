{
 "cells": [
  {
   "cell_type": "markdown",
   "metadata": {},
   "source": [
    "# Airbnb Analysis Project\n",
    "\n",
    "Aim: To analyse prices and expected earnings from airbnb rental properties\n"
   ]
  },
  {
   "cell_type": "code",
   "execution_count": 1,
   "metadata": {
    "collapsed": true
   },
   "outputs": [],
   "source": [
    "# Import the libraries required\n",
    "import pandas as pd\n",
    "import numpy as np\n",
    "\n",
    "import statsmodels.formula.api as smf\n",
    "import matplotlib.pyplot as plt\n",
    "\n",
    "# this allows plots to appear directly in the notebook\n",
    "%matplotlib inline"
   ]
  },
  {
   "cell_type": "code",
   "execution_count": 2,
   "metadata": {
    "collapsed": true
   },
   "outputs": [],
   "source": [
    "listings_data2 = pd.read_csv(\"sydney/oct15/listings2.csv\", )"
   ]
  },
  {
   "cell_type": "code",
   "execution_count": 3,
   "metadata": {
    "collapsed": false
   },
   "outputs": [
    {
     "data": {
      "text/html": [
       "<div>\n",
       "<table border=\"1\" class=\"dataframe\">\n",
       "  <thead>\n",
       "    <tr style=\"text-align: right;\">\n",
       "      <th></th>\n",
       "      <th>id</th>\n",
       "      <th>listing_url</th>\n",
       "      <th>scrape_id</th>\n",
       "      <th>last_scraped</th>\n",
       "      <th>name</th>\n",
       "      <th>summary</th>\n",
       "      <th>space</th>\n",
       "      <th>description</th>\n",
       "      <th>experiences_offered</th>\n",
       "      <th>neighborhood_overview</th>\n",
       "      <th>...</th>\n",
       "      <th>review_scores_value</th>\n",
       "      <th>requires_license</th>\n",
       "      <th>license</th>\n",
       "      <th>jurisdiction_names</th>\n",
       "      <th>instant_bookable</th>\n",
       "      <th>cancellation_policy</th>\n",
       "      <th>require_guest_profile_picture</th>\n",
       "      <th>require_guest_phone_verification</th>\n",
       "      <th>calculated_host_listings_count</th>\n",
       "      <th>reviews_per_month</th>\n",
       "    </tr>\n",
       "  </thead>\n",
       "  <tbody>\n",
       "    <tr>\n",
       "      <th>0</th>\n",
       "      <td>5309357</td>\n",
       "      <td>https://www.airbnb.com/rooms/5309357</td>\n",
       "      <td>2.015100e+13</td>\n",
       "      <td>2/10/15</td>\n",
       "      <td>Character Waterfront CottageRetreat</td>\n",
       "      <td>Water front &amp; access character 2 BR Cottage on...</td>\n",
       "      <td>NaN</td>\n",
       "      <td>Water front &amp; access character 2 BR Cottage on...</td>\n",
       "      <td>none</td>\n",
       "      <td>NaN</td>\n",
       "      <td>...</td>\n",
       "      <td>8</td>\n",
       "      <td>f</td>\n",
       "      <td>NaN</td>\n",
       "      <td>NaN</td>\n",
       "      <td>f</td>\n",
       "      <td>flexible</td>\n",
       "      <td>f</td>\n",
       "      <td>f</td>\n",
       "      <td>2</td>\n",
       "      <td>0.26</td>\n",
       "    </tr>\n",
       "    <tr>\n",
       "      <th>1</th>\n",
       "      <td>5388735</td>\n",
       "      <td>https://www.airbnb.com/rooms/5388735</td>\n",
       "      <td>2.015100e+13</td>\n",
       "      <td>2/10/15</td>\n",
       "      <td>3 B/R- $AU90 Each</td>\n",
       "      <td>All rooms with built in and sleeps 2 comfortab...</td>\n",
       "      <td>3 Spacious BRs with built ins and Beds.$AU90 f...</td>\n",
       "      <td>All rooms with built in and sleeps 2 comfortab...</td>\n",
       "      <td>none</td>\n",
       "      <td>All families living in our (website hidden) is...</td>\n",
       "      <td>...</td>\n",
       "      <td>NaN</td>\n",
       "      <td>f</td>\n",
       "      <td>NaN</td>\n",
       "      <td>NaN</td>\n",
       "      <td>f</td>\n",
       "      <td>strict</td>\n",
       "      <td>f</td>\n",
       "      <td>f</td>\n",
       "      <td>1</td>\n",
       "      <td>NaN</td>\n",
       "    </tr>\n",
       "  </tbody>\n",
       "</table>\n",
       "<p>2 rows × 92 columns</p>\n",
       "</div>"
      ],
      "text/plain": [
       "        id                           listing_url     scrape_id last_scraped  \\\n",
       "0  5309357  https://www.airbnb.com/rooms/5309357  2.015100e+13      2/10/15   \n",
       "1  5388735  https://www.airbnb.com/rooms/5388735  2.015100e+13      2/10/15   \n",
       "\n",
       "                                  name  \\\n",
       "0  Character Waterfront CottageRetreat   \n",
       "1                    3 B/R- $AU90 Each   \n",
       "\n",
       "                                             summary  \\\n",
       "0  Water front & access character 2 BR Cottage on...   \n",
       "1  All rooms with built in and sleeps 2 comfortab...   \n",
       "\n",
       "                                               space  \\\n",
       "0                                                NaN   \n",
       "1  3 Spacious BRs with built ins and Beds.$AU90 f...   \n",
       "\n",
       "                                         description experiences_offered  \\\n",
       "0  Water front & access character 2 BR Cottage on...                none   \n",
       "1  All rooms with built in and sleeps 2 comfortab...                none   \n",
       "\n",
       "                               neighborhood_overview        ...         \\\n",
       "0                                                NaN        ...          \n",
       "1  All families living in our (website hidden) is...        ...          \n",
       "\n",
       "  review_scores_value requires_license license jurisdiction_names  \\\n",
       "0                   8                f     NaN                NaN   \n",
       "1                 NaN                f     NaN                NaN   \n",
       "\n",
       "  instant_bookable cancellation_policy  require_guest_profile_picture  \\\n",
       "0                f            flexible                              f   \n",
       "1                f              strict                              f   \n",
       "\n",
       "  require_guest_phone_verification calculated_host_listings_count  \\\n",
       "0                                f                              2   \n",
       "1                                f                              1   \n",
       "\n",
       "  reviews_per_month  \n",
       "0              0.26  \n",
       "1               NaN  \n",
       "\n",
       "[2 rows x 92 columns]"
      ]
     },
     "execution_count": 3,
     "metadata": {},
     "output_type": "execute_result"
    }
   ],
   "source": [
    "listings_data2.head(2)"
   ]
  },
  {
   "cell_type": "code",
   "execution_count": null,
   "metadata": {
    "collapsed": false
   },
   "outputs": [],
   "source": []
  },
  {
   "cell_type": "code",
   "execution_count": 4,
   "metadata": {
    "collapsed": true
   },
   "outputs": [],
   "source": [
    "#clean the data   - need to remove:  amenities"
   ]
  },
  {
   "cell_type": "code",
   "execution_count": 5,
   "metadata": {
    "collapsed": false
   },
   "outputs": [],
   "source": [
    "listings_data2_clean = listings_data2.drop(['amenities' , 'neighbourhood_group_cleansed', 'listing_url', 'host_thumbnail_url', 'host_picture_url', 'host_neighbourhood', 'host_verifications', 'host_has_profile_pic', 'host_identity_verified', 'street', 'neighbourhood', 'neighbourhood_group_cleansed', 'state', 'market', 'smart_location', 'country_code', 'country', 'square_feet', 'security_deposit', 'cleaning_fee', 'calendar_last_scraped', 'first_review', 'last_review', 'requires_license', 'license', 'jurisdiction_names', 'require_guest_profile_picture', 'require_guest_phone_verification', 'scrape_id', 'last_scraped' , 'name', 'summary' , 'space' , 'description' , 'experiences_offered' , 'neighborhood_overview' , 'notes' , 'transit' , 'thumbnail_url' , 'medium_url' , 'picture_url' , 'xl_picture_url' , 'host_id' , 'host_url' , 'host_name' , 'host_since' , 'host_location' , 'host_about'], 1)"
   ]
  },
  {
   "cell_type": "code",
   "execution_count": 6,
   "metadata": {
    "collapsed": false
   },
   "outputs": [],
   "source": [
    "# Remove horrible pricing format\n",
    "\n",
    "listings_data2_clean['price'] = listings_data2_clean['price'].str.replace('$', '').str.replace(',', '').str.rstrip('00').str.rstrip('.')\n",
    "listings_data2_clean['weekly_price'] = listings_data2_clean['weekly_price'].str.replace('$', '').str.replace(',', '').str.rstrip('00').str.rstrip('.')\n",
    "listings_data2_clean['monthly_price'] = listings_data2_clean['monthly_price'].str.replace('$', '').str.replace(',', '').str.rstrip('00').str.rstrip('.')\n",
    "listings_data2_clean['extra_people'] = listings_data2_clean['extra_people'].str.replace('$', '').str.replace(',', '').str.rstrip('00').str.rstrip('.')"
   ]
  },
  {
   "cell_type": "code",
   "execution_count": 7,
   "metadata": {
    "collapsed": false,
    "scrolled": true
   },
   "outputs": [],
   "source": [
    "# converts strings to int\n",
    "listings_data2_clean['price'] = listings_data2_clean['price'].astype(int)\n",
    "\n",
    "#gets a list of daily prices times by 7\n",
    "weekly = listings_data2_clean['price']*int('7')\n",
    "listings_data2_clean['weekly_price'] = listings_data2_clean['weekly_price'].fillna(weekly).astype(int)\n",
    "\n",
    "#gets a list of weekly prices times by 30.4 / 7 \n",
    "monthly = listings_data2_clean['weekly_price']*float('4.34286')\n",
    "listings_data2_clean['monthly_price'] = listings_data2_clean['monthly_price'].fillna(monthly).astype(int)\n",
    "\n",
    "# Clean Response Rate\n",
    "listings_data2_clean['host_response_rate'] = listings_data2_clean['host_response_rate'].str.rstrip('%').fillna(0).astype(int)\n",
    "listings_data2_clean['host_acceptance_rate'] = listings_data2_clean['host_acceptance_rate'].str.rstrip('%').fillna(0).astype(int)"
   ]
  },
  {
   "cell_type": "code",
   "execution_count": 8,
   "metadata": {
    "collapsed": false
   },
   "outputs": [],
   "source": [
    "listings_data2_clean['host_is_superhost'] = listings_data2_clean['host_is_superhost'].str.replace('t', '1').str.replace('f', '0').fillna(0).astype(int)\n",
    "listings_data2_clean['is_location_exact'] = listings_data2_clean['is_location_exact'].str.replace('t', '1').str.replace('f', '0').fillna(0).astype(int)\n",
    "listings_data2_clean['has_availability'] = listings_data2_clean['has_availability'].str.replace('t', '1').str.replace('f', '0').fillna(0).astype(int)\n",
    "listings_data2_clean['instant_bookable'] = listings_data2_clean['instant_bookable'].str.replace('t', '1').str.replace('f', '0').fillna(0).astype(int)\n"
   ]
  },
  {
   "cell_type": "code",
   "execution_count": 9,
   "metadata": {
    "collapsed": false
   },
   "outputs": [],
   "source": [
    "\n",
    "#listings_data2_clean['zipcode'] = listings_data2_clean['zipcode']. fillna(0).astype(int)\n"
   ]
  },
  {
   "cell_type": "code",
   "execution_count": 10,
   "metadata": {
    "collapsed": false
   },
   "outputs": [],
   "source": [
    "# Classification Variables\n",
    "\n",
    "#listings_data2_clean['property_type'] = listings_data2_clean['property_type'].map({'Apartment':1, 'Bed & Breakfast':2, 'Boat':3, 'Bungalow':4, 'Cabin':5, 'Camper/RV':6, 'Castle':7, 'Chalet':8, 'Condominium':9, 'Dorm':10, 'Earth House':11, 'House':12, 'Island':13, 'Loft ':14, 'Other':15, 'Parking Space':16, 'Tent':17, 'Tipi ':18, 'Townhouse':19, 'Treehouse':20, 'Villa':21})\n",
    "#listings_data2_clean['room_type'] = listings_data2_clean['room_type'].map({'Shared room':1, 'Private room':2, 'Entire home/apt':3})\n",
    "#listings_data2_clean['cancellation_policy'] = listings_data2_clean['cancellation_policy'].map({'strict':1, 'moderate':2, 'flexible':3})\n",
    "#listings_data2_clean['bed_type'] = listings_data2_clean['bed_type'].map({'Real Bed':5, 'Pull-out Sofa':4, 'Futon':3, 'Couch':2, 'Airbed':1})\n"
   ]
  },
  {
   "cell_type": "code",
   "execution_count": 11,
   "metadata": {
    "collapsed": false
   },
   "outputs": [],
   "source": [
    "# Cleaning Classification types\n",
    "#listings_data2_clean['room_type'] = listings_data2_clean['room_type'].fillna(0).astype(int)\n",
    "#listings_data2_clean['property_type'] = listings_data2_clean['property_type'].fillna(0).astype(int)\n",
    "#listings_data2_clean['cancellation_policy'] = listings_data2_clean['cancellation_policy'].fillna(0).astype(int)\n",
    "#listings_data2_clean['bed_type'] = listings_data2_clean['bed_type'].fillna(0).astype(int)\n"
   ]
  },
  {
   "cell_type": "code",
   "execution_count": 12,
   "metadata": {
    "collapsed": false
   },
   "outputs": [],
   "source": [
    "listings_data2_clean = listings_data2_clean.fillna(0)"
   ]
  },
  {
   "cell_type": "code",
   "execution_count": null,
   "metadata": {
    "collapsed": true
   },
   "outputs": [],
   "source": []
  },
  {
   "cell_type": "code",
   "execution_count": null,
   "metadata": {
    "collapsed": true
   },
   "outputs": [],
   "source": []
  },
  {
   "cell_type": "code",
   "execution_count": 13,
   "metadata": {
    "collapsed": true
   },
   "outputs": [],
   "source": [
    "room_dummies = pd.get_dummies(listings_data2_clean.room_type, prefix='Room').iloc[:, 1:]\n",
    "property_dummies = pd.get_dummies(listings_data2_clean.property_type, prefix='Property').iloc[:, 1:]\n",
    "cancellation_dummies = pd.get_dummies(listings_data2_clean.cancellation_policy, prefix='Cancellation').iloc[:, 1:]\n",
    "bed_dummies = pd.get_dummies(listings_data2_clean.bed_type, prefix='Bed').iloc[:, 1:]"
   ]
  },
  {
   "cell_type": "code",
   "execution_count": 14,
   "metadata": {
    "collapsed": true
   },
   "outputs": [],
   "source": [
    "listings_data2_clean = pd.concat([listings_data2_clean, room_dummies], axis=1)\n",
    "listings_data2_clean = pd.concat([listings_data2_clean, property_dummies], axis=1)\n",
    "listings_data2_clean = pd.concat([listings_data2_clean, cancellation_dummies], axis=1)\n",
    "listings_data2_clean = pd.concat([listings_data2_clean, bed_dummies], axis=1)\n"
   ]
  },
  {
   "cell_type": "code",
   "execution_count": 15,
   "metadata": {
    "collapsed": false
   },
   "outputs": [],
   "source": [
    "listings_data2_final = listings_data2_clean"
   ]
  },
  {
   "cell_type": "code",
   "execution_count": 16,
   "metadata": {
    "collapsed": false
   },
   "outputs": [],
   "source": [
    "# list(listings_data2_final)"
   ]
  },
  {
   "cell_type": "code",
   "execution_count": 17,
   "metadata": {
    "collapsed": false
   },
   "outputs": [],
   "source": [
    "\n",
    "# create a list of feature columns   - without amenities\n",
    "feature_cols = ['host_response_rate' , 'host_acceptance_rate' ,  'availability_365'   , 'calculated_host_listings_count' , 'reviews_per_month' , 'availability_30' , 'availability_60' , 'availability_90', 'review_scores_rating' , 'latitude' , 'longitude' , 'review_scores_accuracy' , 'review_scores_cleanliness' , 'review_scores_checkin' , 'review_scores_communication' , 'review_scores_location' , 'review_scores_value' , 'number_of_reviews',  'accommodates' , 'bathrooms' , 'bedrooms' , 'beds', 'instant_bookable', 'Room_Private room',\n",
    " 'Room_Shared room', 'Property_Apartment', 'Property_Bed & Breakfast', 'Property_Boat', 'Property_Bungalow', 'Property_Cabin', 'Property_Camper/RV', 'Property_Castle', 'Property_Chalet', 'Property_Condominium', 'Property_Dorm', 'Property_Earth House', 'Property_House', 'Property_Island', 'Property_Loft', 'Property_Other', 'Property_Parking Space', 'Property_Tent', 'Property_Tipi', 'Property_Townhouse', 'Property_Treehouse', 'Property_Villa', 'Cancellation_moderate', 'Cancellation_strict', 'Cancellation_super_strict_60', 'Bed_Couch', 'Bed_Futon', 'Bed_Pull-out Sofa', 'Bed_Real Bed'\n",
    "]\n"
   ]
  },
  {
   "cell_type": "code",
   "execution_count": 18,
   "metadata": {
    "collapsed": false,
    "scrolled": true
   },
   "outputs": [],
   "source": [
    "y = listings_data2_final['price']\n",
    "X = listings_data2_final[[ 'host_response_rate' , 'host_acceptance_rate' ,  'availability_365'  , 'calculated_host_listings_count' , 'reviews_per_month' , 'availability_30' , 'availability_60' , 'availability_90', 'review_scores_rating' , 'latitude' , 'longitude' , 'review_scores_accuracy' , 'review_scores_cleanliness' , 'review_scores_checkin' , 'review_scores_communication' , 'review_scores_location' , 'review_scores_value' , 'number_of_reviews',  'accommodates' , 'bathrooms' , 'bedrooms' , 'beds', 'instant_bookable', 'Room_Private room',\n",
    " 'Room_Shared room', 'Property_Apartment', 'Property_Bed & Breakfast', 'Property_Boat', 'Property_Bungalow', 'Property_Cabin', 'Property_Camper/RV', 'Property_Castle', 'Property_Chalet', 'Property_Condominium', 'Property_Dorm', 'Property_Earth House', 'Property_House', 'Property_Island', 'Property_Loft', 'Property_Other', 'Property_Parking Space', 'Property_Tent', 'Property_Tipi', 'Property_Townhouse', 'Property_Treehouse', 'Property_Villa', 'Cancellation_moderate', 'Cancellation_strict', 'Cancellation_super_strict_60', 'Bed_Couch', 'Bed_Futon', 'Bed_Pull-out Sofa', 'Bed_Real Bed' ]]\n",
    "\n",
    "\n",
    "\n"
   ]
  },
  {
   "cell_type": "code",
   "execution_count": 19,
   "metadata": {
    "collapsed": true
   },
   "outputs": [],
   "source": [
    "from sklearn.cross_validation import train_test_split\n",
    "X_train, X_test, y_train, y_test = train_test_split(X, y, random_state=1)"
   ]
  },
  {
   "cell_type": "code",
   "execution_count": null,
   "metadata": {
    "collapsed": true
   },
   "outputs": [],
   "source": []
  },
  {
   "cell_type": "code",
   "execution_count": null,
   "metadata": {
    "collapsed": true
   },
   "outputs": [],
   "source": []
  },
  {
   "cell_type": "code",
   "execution_count": null,
   "metadata": {
    "collapsed": true
   },
   "outputs": [],
   "source": []
  },
  {
   "cell_type": "code",
   "execution_count": null,
   "metadata": {
    "collapsed": true
   },
   "outputs": [],
   "source": []
  },
  {
   "cell_type": "code",
   "execution_count": null,
   "metadata": {
    "collapsed": true
   },
   "outputs": [],
   "source": []
  },
  {
   "cell_type": "code",
   "execution_count": null,
   "metadata": {
    "collapsed": false
   },
   "outputs": [],
   "source": []
  },
  {
   "cell_type": "code",
   "execution_count": null,
   "metadata": {
    "collapsed": true
   },
   "outputs": [],
   "source": [
    "# Linear Regression"
   ]
  },
  {
   "cell_type": "code",
   "execution_count": null,
   "metadata": {
    "collapsed": true
   },
   "outputs": [],
   "source": []
  },
  {
   "cell_type": "code",
   "execution_count": null,
   "metadata": {
    "collapsed": false
   },
   "outputs": [],
   "source": [
    "from sklearn.linear_model import LinearRegression\n",
    "lm = LinearRegression()\n",
    "lm.fit(X_train, y_train)\n",
    "lm.coef_"
   ]
  },
  {
   "cell_type": "code",
   "execution_count": null,
   "metadata": {
    "collapsed": false
   },
   "outputs": [],
   "source": [
    "\n",
    "# make predictions and evaluate\n",
    "import numpy as np\n",
    "from sklearn import metrics\n",
    "preds = lm.predict(X_test)\n",
    "\n",
    "np.sqrt(metrics.mean_squared_error(y_test, preds))\n",
    "lm.score(X_test, y_test) "
   ]
  },
  {
   "cell_type": "code",
   "execution_count": null,
   "metadata": {
    "collapsed": false
   },
   "outputs": [],
   "source": []
  },
  {
   "cell_type": "code",
   "execution_count": null,
   "metadata": {
    "collapsed": false
   },
   "outputs": [],
   "source": [
    "########## Ridge Regression Model ##########\n",
    "# ridge regression (alpha must be positive, larger means more regularization)\n",
    "from sklearn.linear_model import Ridge\n",
    "rreg = Ridge(alpha=0.1, normalize=True)\n",
    "rreg.fit(X_train, y_train)\n",
    "rreg.coef_\n",
    "preds = rreg.predict(X_test)\n",
    "np.sqrt(metrics.mean_squared_error(y_test, preds))\n",
    "# Is this model better? Why?\n",
    "rreg.score(X_test, y_test) \n",
    "\n",
    "\n"
   ]
  },
  {
   "cell_type": "code",
   "execution_count": null,
   "metadata": {
    "collapsed": false
   },
   "outputs": [],
   "source": [
    "preds = rfreg.predict(X)\n",
    "preds = pd.DataFrame(preds)\n",
    "result = pd.concat([y, preds], axis=1, ignore_index=True)\n",
    "result.head(10)"
   ]
  },
  {
   "cell_type": "code",
   "execution_count": null,
   "metadata": {
    "collapsed": false
   },
   "outputs": [],
   "source": [
    "# use RidgeCV to select best alpha\n",
    "from sklearn.linear_model import RidgeCV\n",
    "alpha_range = 10.**np.arange(-4, 3)\n",
    "rregcv = RidgeCV(normalize=True, scoring='mean_squared_error', alphas=alpha_range)\n",
    "rregcv.fit(X_train, y_train)\n",
    "rregcv.alpha_\n",
    "preds = rregcv.predict(X_test)\n",
    "np.sqrt(metrics.mean_squared_error(y_test, preds))\n",
    "# What is the range of alp vlues we are searching over?\n",
    "rregcv.score(X_test, y_test) "
   ]
  },
  {
   "cell_type": "code",
   "execution_count": null,
   "metadata": {
    "collapsed": false
   },
   "outputs": [],
   "source": [
    "y_test.head(10)"
   ]
  },
  {
   "cell_type": "code",
   "execution_count": null,
   "metadata": {
    "collapsed": false
   },
   "outputs": [],
   "source": [
    "preds[0:10]"
   ]
  },
  {
   "cell_type": "code",
   "execution_count": null,
   "metadata": {
    "collapsed": false
   },
   "outputs": [],
   "source": [
    "########## Elastic Net Regression Model ##########\n",
    "# Elastic (alpha must be positive, larger means more regularization)\n",
    "from sklearn.linear_model import ElasticNet\n",
    "els = ElasticNet(alpha=0.01, normalize=True)\n",
    "els.fit(X_train, y_train)\n",
    "els.coef_\n",
    "preds = els.predict(X_test)\n",
    "np.sqrt(metrics.mean_squared_error(y_test, preds))\n",
    "els.score(X_test, y_test) "
   ]
  },
  {
   "cell_type": "code",
   "execution_count": null,
   "metadata": {
    "collapsed": false
   },
   "outputs": [],
   "source": [
    "# try a smaller alpha\n",
    "els = ElasticNet(alpha=0.001, normalize=True)\n",
    "els.fit(X_train, y_train)\n",
    "els.coef_\n",
    "preds = els.predict(X_test)\n",
    "np.sqrt(metrics.mean_squared_error(y_test, preds))\n",
    "els.score(X_test, y_test) "
   ]
  },
  {
   "cell_type": "code",
   "execution_count": null,
   "metadata": {
    "collapsed": false
   },
   "outputs": [],
   "source": [
    "# use LassoCV to select best alpha (tries 100 alphas by default)\n",
    "from sklearn.linear_model import ElasticNetCV\n",
    "elscv = ElasticNetCV(normalize=True, alphas=alpha_range)\n",
    "elscv.fit(X_train, y_train)\n",
    "elscv.alpha_\n",
    "elscv.coef_\n",
    "preds = elscv.predict(X_test)\n",
    "np.sqrt(metrics.mean_squared_error(y_test, preds))\n",
    "elscv.score(X_test, y_test) "
   ]
  },
  {
   "cell_type": "code",
   "execution_count": null,
   "metadata": {
    "collapsed": false
   },
   "outputs": [],
   "source": []
  },
  {
   "cell_type": "code",
   "execution_count": null,
   "metadata": {
    "collapsed": true
   },
   "outputs": [],
   "source": [
    "#SVM Support Vecor Machine ( Not Working!!!)"
   ]
  },
  {
   "cell_type": "code",
   "execution_count": null,
   "metadata": {
    "collapsed": true
   },
   "outputs": [],
   "source": [
    "\n",
    "#from sklearn import svm\n",
    "#clf = svm.SVC(kernel='linear', C=1).fit(X_train, y_train)\n"
   ]
  },
  {
   "cell_type": "code",
   "execution_count": null,
   "metadata": {
    "collapsed": true
   },
   "outputs": [],
   "source": [
    "#clf.score(X_test, y_test) "
   ]
  },
  {
   "cell_type": "code",
   "execution_count": null,
   "metadata": {
    "collapsed": true
   },
   "outputs": [],
   "source": [
    "#from sklearn import metrics\n",
    "#svc = svm.SVC(kernel='linear', C=1)\n",
    "#cvsvm = cross_validation.cross_val_score(svc, X, y, cv=5)\n",
    "#scores"
   ]
  },
  {
   "cell_type": "code",
   "execution_count": null,
   "metadata": {
    "collapsed": true
   },
   "outputs": [],
   "source": []
  },
  {
   "cell_type": "code",
   "execution_count": null,
   "metadata": {
    "collapsed": true
   },
   "outputs": [],
   "source": []
  },
  {
   "cell_type": "code",
   "execution_count": null,
   "metadata": {
    "collapsed": true
   },
   "outputs": [],
   "source": []
  },
  {
   "cell_type": "code",
   "execution_count": 20,
   "metadata": {
    "collapsed": true
   },
   "outputs": [],
   "source": [
    "# Random Forest"
   ]
  },
  {
   "cell_type": "code",
   "execution_count": 21,
   "metadata": {
    "collapsed": false,
    "scrolled": true
   },
   "outputs": [
    {
     "data": {
      "text/plain": [
       "RandomForestRegressor(bootstrap=True, criterion='mse', max_depth=None,\n",
       "           max_features=11, max_leaf_nodes=None, min_samples_leaf=1,\n",
       "           min_samples_split=2, min_weight_fraction_leaf=0.0,\n",
       "           n_estimators=300, n_jobs=1, oob_score=True, random_state=1,\n",
       "           verbose=0, warm_start=False)"
      ]
     },
     "execution_count": 21,
     "metadata": {},
     "output_type": "execute_result"
    }
   ],
   "source": [
    "# import class, instantiate estimator, fit with all data\n",
    "from sklearn.ensemble import RandomForestRegressor\n",
    "rfreg = RandomForestRegressor(n_estimators=300, max_features=11, oob_score=True, random_state=1)\n",
    "rfreg.fit(listings_data2_final[feature_cols], listings_data2_final.price)"
   ]
  },
  {
   "cell_type": "code",
   "execution_count": 22,
   "metadata": {
    "collapsed": false
   },
   "outputs": [
    {
     "data": {
      "text/plain": [
       "0.4175214525036044"
      ]
     },
     "execution_count": 22,
     "metadata": {},
     "output_type": "execute_result"
    }
   ],
   "source": [
    "s_rfreg = rfreg.oob_score_\n"
   ]
  },
  {
   "cell_type": "code",
   "execution_count": 48,
   "metadata": {
    "collapsed": false
   },
   "outputs": [
    {
     "data": {
      "text/plain": [
       "0.92123602925857362"
      ]
     },
     "execution_count": 48,
     "metadata": {},
     "output_type": "execute_result"
    }
   ],
   "source": []
  },
  {
   "cell_type": "code",
   "execution_count": 23,
   "metadata": {
    "collapsed": false
   },
   "outputs": [
    {
     "data": {
      "text/html": [
       "<div>\n",
       "<table border=\"1\" class=\"dataframe\">\n",
       "  <thead>\n",
       "    <tr style=\"text-align: right;\">\n",
       "      <th></th>\n",
       "      <th>0</th>\n",
       "      <th>1</th>\n",
       "    </tr>\n",
       "  </thead>\n",
       "  <tbody>\n",
       "    <tr>\n",
       "      <th>0</th>\n",
       "      <td>295</td>\n",
       "      <td>308.836667</td>\n",
       "    </tr>\n",
       "    <tr>\n",
       "      <th>1</th>\n",
       "      <td>89</td>\n",
       "      <td>135.210000</td>\n",
       "    </tr>\n",
       "    <tr>\n",
       "      <th>2</th>\n",
       "      <td>72</td>\n",
       "      <td>72.220000</td>\n",
       "    </tr>\n",
       "    <tr>\n",
       "      <th>3</th>\n",
       "      <td>270</td>\n",
       "      <td>332.283333</td>\n",
       "    </tr>\n",
       "    <tr>\n",
       "      <th>4</th>\n",
       "      <td>97</td>\n",
       "      <td>86.670000</td>\n",
       "    </tr>\n",
       "    <tr>\n",
       "      <th>5</th>\n",
       "      <td>129</td>\n",
       "      <td>111.276667</td>\n",
       "    </tr>\n",
       "    <tr>\n",
       "      <th>6</th>\n",
       "      <td>610</td>\n",
       "      <td>650.776667</td>\n",
       "    </tr>\n",
       "    <tr>\n",
       "      <th>7</th>\n",
       "      <td>80</td>\n",
       "      <td>85.913333</td>\n",
       "    </tr>\n",
       "    <tr>\n",
       "      <th>8</th>\n",
       "      <td>80</td>\n",
       "      <td>85.126667</td>\n",
       "    </tr>\n",
       "    <tr>\n",
       "      <th>9</th>\n",
       "      <td>65</td>\n",
       "      <td>67.086667</td>\n",
       "    </tr>\n",
       "    <tr>\n",
       "      <th>10</th>\n",
       "      <td>55</td>\n",
       "      <td>59.970000</td>\n",
       "    </tr>\n",
       "    <tr>\n",
       "      <th>11</th>\n",
       "      <td>60</td>\n",
       "      <td>65.260000</td>\n",
       "    </tr>\n",
       "    <tr>\n",
       "      <th>12</th>\n",
       "      <td>80</td>\n",
       "      <td>80.050000</td>\n",
       "    </tr>\n",
       "    <tr>\n",
       "      <th>13</th>\n",
       "      <td>80</td>\n",
       "      <td>174.443333</td>\n",
       "    </tr>\n",
       "    <tr>\n",
       "      <th>14</th>\n",
       "      <td>80</td>\n",
       "      <td>85.466667</td>\n",
       "    </tr>\n",
       "    <tr>\n",
       "      <th>15</th>\n",
       "      <td>60</td>\n",
       "      <td>62.236667</td>\n",
       "    </tr>\n",
       "    <tr>\n",
       "      <th>16</th>\n",
       "      <td>50</td>\n",
       "      <td>58.156667</td>\n",
       "    </tr>\n",
       "    <tr>\n",
       "      <th>17</th>\n",
       "      <td>99</td>\n",
       "      <td>110.423333</td>\n",
       "    </tr>\n",
       "    <tr>\n",
       "      <th>18</th>\n",
       "      <td>80</td>\n",
       "      <td>103.920000</td>\n",
       "    </tr>\n",
       "    <tr>\n",
       "      <th>19</th>\n",
       "      <td>200</td>\n",
       "      <td>193.210000</td>\n",
       "    </tr>\n",
       "  </tbody>\n",
       "</table>\n",
       "</div>"
      ],
      "text/plain": [
       "      0           1\n",
       "0   295  308.836667\n",
       "1    89  135.210000\n",
       "2    72   72.220000\n",
       "3   270  332.283333\n",
       "4    97   86.670000\n",
       "5   129  111.276667\n",
       "6   610  650.776667\n",
       "7    80   85.913333\n",
       "8    80   85.126667\n",
       "9    65   67.086667\n",
       "10   55   59.970000\n",
       "11   60   65.260000\n",
       "12   80   80.050000\n",
       "13   80  174.443333\n",
       "14   80   85.466667\n",
       "15   60   62.236667\n",
       "16   50   58.156667\n",
       "17   99  110.423333\n",
       "18   80  103.920000\n",
       "19  200  193.210000"
      ]
     },
     "execution_count": 23,
     "metadata": {},
     "output_type": "execute_result"
    }
   ],
   "source": [
    "Xreg = rfreg.predict(X)\n",
    "Xreg = pd.DataFrame(Xreg)\n",
    "result = pd.concat([y, Xreg], axis=1, ignore_index=True)\n",
    "result.head(20)\n"
   ]
  },
  {
   "cell_type": "code",
   "execution_count": null,
   "metadata": {
    "collapsed": true
   },
   "outputs": [],
   "source": []
  },
  {
   "cell_type": "code",
   "execution_count": 25,
   "metadata": {
    "collapsed": false
   },
   "outputs": [
    {
     "data": {
      "text/html": [
       "<div>\n",
       "<table border=\"1\" class=\"dataframe\">\n",
       "  <thead>\n",
       "    <tr style=\"text-align: right;\">\n",
       "      <th></th>\n",
       "      <th>feature</th>\n",
       "      <th>importance</th>\n",
       "    </tr>\n",
       "  </thead>\n",
       "  <tbody>\n",
       "    <tr>\n",
       "      <th>0</th>\n",
       "      <td>host_response_rate</td>\n",
       "      <td>2.521925e-02</td>\n",
       "    </tr>\n",
       "    <tr>\n",
       "      <th>1</th>\n",
       "      <td>host_acceptance_rate</td>\n",
       "      <td>1.730433e-02</td>\n",
       "    </tr>\n",
       "    <tr>\n",
       "      <th>2</th>\n",
       "      <td>availability_365</td>\n",
       "      <td>3.601597e-02</td>\n",
       "    </tr>\n",
       "    <tr>\n",
       "      <th>3</th>\n",
       "      <td>calculated_host_listings_count</td>\n",
       "      <td>9.124786e-03</td>\n",
       "    </tr>\n",
       "    <tr>\n",
       "      <th>4</th>\n",
       "      <td>reviews_per_month</td>\n",
       "      <td>1.918377e-02</td>\n",
       "    </tr>\n",
       "    <tr>\n",
       "      <th>5</th>\n",
       "      <td>availability_30</td>\n",
       "      <td>1.531501e-02</td>\n",
       "    </tr>\n",
       "    <tr>\n",
       "      <th>6</th>\n",
       "      <td>availability_60</td>\n",
       "      <td>1.811107e-02</td>\n",
       "    </tr>\n",
       "    <tr>\n",
       "      <th>7</th>\n",
       "      <td>availability_90</td>\n",
       "      <td>3.217028e-02</td>\n",
       "    </tr>\n",
       "    <tr>\n",
       "      <th>8</th>\n",
       "      <td>review_scores_rating</td>\n",
       "      <td>8.789077e-03</td>\n",
       "    </tr>\n",
       "    <tr>\n",
       "      <th>9</th>\n",
       "      <td>latitude</td>\n",
       "      <td>9.809789e-02</td>\n",
       "    </tr>\n",
       "    <tr>\n",
       "      <th>10</th>\n",
       "      <td>longitude</td>\n",
       "      <td>1.118867e-01</td>\n",
       "    </tr>\n",
       "    <tr>\n",
       "      <th>11</th>\n",
       "      <td>review_scores_accuracy</td>\n",
       "      <td>6.506008e-03</td>\n",
       "    </tr>\n",
       "    <tr>\n",
       "      <th>12</th>\n",
       "      <td>review_scores_cleanliness</td>\n",
       "      <td>5.340186e-03</td>\n",
       "    </tr>\n",
       "    <tr>\n",
       "      <th>13</th>\n",
       "      <td>review_scores_checkin</td>\n",
       "      <td>5.669524e-03</td>\n",
       "    </tr>\n",
       "    <tr>\n",
       "      <th>14</th>\n",
       "      <td>review_scores_communication</td>\n",
       "      <td>3.291008e-03</td>\n",
       "    </tr>\n",
       "    <tr>\n",
       "      <th>15</th>\n",
       "      <td>review_scores_location</td>\n",
       "      <td>7.473381e-03</td>\n",
       "    </tr>\n",
       "    <tr>\n",
       "      <th>16</th>\n",
       "      <td>review_scores_value</td>\n",
       "      <td>6.275285e-03</td>\n",
       "    </tr>\n",
       "    <tr>\n",
       "      <th>17</th>\n",
       "      <td>number_of_reviews</td>\n",
       "      <td>1.901012e-02</td>\n",
       "    </tr>\n",
       "    <tr>\n",
       "      <th>18</th>\n",
       "      <td>accommodates</td>\n",
       "      <td>1.086651e-01</td>\n",
       "    </tr>\n",
       "    <tr>\n",
       "      <th>19</th>\n",
       "      <td>bathrooms</td>\n",
       "      <td>9.656987e-02</td>\n",
       "    </tr>\n",
       "    <tr>\n",
       "      <th>20</th>\n",
       "      <td>bedrooms</td>\n",
       "      <td>1.292126e-01</td>\n",
       "    </tr>\n",
       "    <tr>\n",
       "      <th>21</th>\n",
       "      <td>beds</td>\n",
       "      <td>7.082206e-02</td>\n",
       "    </tr>\n",
       "    <tr>\n",
       "      <th>22</th>\n",
       "      <td>instant_bookable</td>\n",
       "      <td>1.917107e-02</td>\n",
       "    </tr>\n",
       "    <tr>\n",
       "      <th>23</th>\n",
       "      <td>Room_Private room</td>\n",
       "      <td>3.115566e-02</td>\n",
       "    </tr>\n",
       "    <tr>\n",
       "      <th>24</th>\n",
       "      <td>Room_Shared room</td>\n",
       "      <td>4.351550e-03</td>\n",
       "    </tr>\n",
       "    <tr>\n",
       "      <th>25</th>\n",
       "      <td>Property_Apartment</td>\n",
       "      <td>1.073992e-02</td>\n",
       "    </tr>\n",
       "    <tr>\n",
       "      <th>26</th>\n",
       "      <td>Property_Bed &amp; Breakfast</td>\n",
       "      <td>4.875236e-04</td>\n",
       "    </tr>\n",
       "    <tr>\n",
       "      <th>27</th>\n",
       "      <td>Property_Boat</td>\n",
       "      <td>4.496887e-02</td>\n",
       "    </tr>\n",
       "    <tr>\n",
       "      <th>28</th>\n",
       "      <td>Property_Bungalow</td>\n",
       "      <td>1.137271e-06</td>\n",
       "    </tr>\n",
       "    <tr>\n",
       "      <th>29</th>\n",
       "      <td>Property_Cabin</td>\n",
       "      <td>5.370826e-03</td>\n",
       "    </tr>\n",
       "    <tr>\n",
       "      <th>30</th>\n",
       "      <td>Property_Camper/RV</td>\n",
       "      <td>1.578159e-05</td>\n",
       "    </tr>\n",
       "    <tr>\n",
       "      <th>31</th>\n",
       "      <td>Property_Castle</td>\n",
       "      <td>6.996113e-04</td>\n",
       "    </tr>\n",
       "    <tr>\n",
       "      <th>32</th>\n",
       "      <td>Property_Chalet</td>\n",
       "      <td>2.068795e-08</td>\n",
       "    </tr>\n",
       "    <tr>\n",
       "      <th>33</th>\n",
       "      <td>Property_Condominium</td>\n",
       "      <td>1.286243e-05</td>\n",
       "    </tr>\n",
       "    <tr>\n",
       "      <th>34</th>\n",
       "      <td>Property_Dorm</td>\n",
       "      <td>5.296698e-04</td>\n",
       "    </tr>\n",
       "    <tr>\n",
       "      <th>35</th>\n",
       "      <td>Property_Earth House</td>\n",
       "      <td>1.202190e-05</td>\n",
       "    </tr>\n",
       "    <tr>\n",
       "      <th>36</th>\n",
       "      <td>Property_House</td>\n",
       "      <td>1.162828e-02</td>\n",
       "    </tr>\n",
       "    <tr>\n",
       "      <th>37</th>\n",
       "      <td>Property_Island</td>\n",
       "      <td>2.431215e-07</td>\n",
       "    </tr>\n",
       "    <tr>\n",
       "      <th>38</th>\n",
       "      <td>Property_Loft</td>\n",
       "      <td>1.627584e-04</td>\n",
       "    </tr>\n",
       "    <tr>\n",
       "      <th>39</th>\n",
       "      <td>Property_Other</td>\n",
       "      <td>1.718129e-03</td>\n",
       "    </tr>\n",
       "    <tr>\n",
       "      <th>40</th>\n",
       "      <td>Property_Parking Space</td>\n",
       "      <td>1.208387e-06</td>\n",
       "    </tr>\n",
       "    <tr>\n",
       "      <th>41</th>\n",
       "      <td>Property_Tent</td>\n",
       "      <td>5.316875e-06</td>\n",
       "    </tr>\n",
       "    <tr>\n",
       "      <th>42</th>\n",
       "      <td>Property_Tipi</td>\n",
       "      <td>5.835473e-06</td>\n",
       "    </tr>\n",
       "    <tr>\n",
       "      <th>43</th>\n",
       "      <td>Property_Townhouse</td>\n",
       "      <td>2.562956e-04</td>\n",
       "    </tr>\n",
       "    <tr>\n",
       "      <th>44</th>\n",
       "      <td>Property_Treehouse</td>\n",
       "      <td>5.481698e-07</td>\n",
       "    </tr>\n",
       "    <tr>\n",
       "      <th>45</th>\n",
       "      <td>Property_Villa</td>\n",
       "      <td>2.505389e-04</td>\n",
       "    </tr>\n",
       "    <tr>\n",
       "      <th>46</th>\n",
       "      <td>Cancellation_moderate</td>\n",
       "      <td>3.722761e-03</td>\n",
       "    </tr>\n",
       "    <tr>\n",
       "      <th>47</th>\n",
       "      <td>Cancellation_strict</td>\n",
       "      <td>1.410158e-02</td>\n",
       "    </tr>\n",
       "    <tr>\n",
       "      <th>48</th>\n",
       "      <td>Cancellation_super_strict_60</td>\n",
       "      <td>3.715774e-04</td>\n",
       "    </tr>\n",
       "    <tr>\n",
       "      <th>49</th>\n",
       "      <td>Bed_Couch</td>\n",
       "      <td>7.240811e-06</td>\n",
       "    </tr>\n",
       "    <tr>\n",
       "      <th>50</th>\n",
       "      <td>Bed_Futon</td>\n",
       "      <td>1.464064e-05</td>\n",
       "    </tr>\n",
       "    <tr>\n",
       "      <th>51</th>\n",
       "      <td>Bed_Pull-out Sofa</td>\n",
       "      <td>3.115380e-05</td>\n",
       "    </tr>\n",
       "    <tr>\n",
       "      <th>52</th>\n",
       "      <td>Bed_Real Bed</td>\n",
       "      <td>1.519950e-04</td>\n",
       "    </tr>\n",
       "  </tbody>\n",
       "</table>\n",
       "</div>"
      ],
      "text/plain": [
       "                           feature    importance\n",
       "0               host_response_rate  2.521925e-02\n",
       "1             host_acceptance_rate  1.730433e-02\n",
       "2                 availability_365  3.601597e-02\n",
       "3   calculated_host_listings_count  9.124786e-03\n",
       "4                reviews_per_month  1.918377e-02\n",
       "5                  availability_30  1.531501e-02\n",
       "6                  availability_60  1.811107e-02\n",
       "7                  availability_90  3.217028e-02\n",
       "8             review_scores_rating  8.789077e-03\n",
       "9                         latitude  9.809789e-02\n",
       "10                       longitude  1.118867e-01\n",
       "11          review_scores_accuracy  6.506008e-03\n",
       "12       review_scores_cleanliness  5.340186e-03\n",
       "13           review_scores_checkin  5.669524e-03\n",
       "14     review_scores_communication  3.291008e-03\n",
       "15          review_scores_location  7.473381e-03\n",
       "16             review_scores_value  6.275285e-03\n",
       "17               number_of_reviews  1.901012e-02\n",
       "18                    accommodates  1.086651e-01\n",
       "19                       bathrooms  9.656987e-02\n",
       "20                        bedrooms  1.292126e-01\n",
       "21                            beds  7.082206e-02\n",
       "22                instant_bookable  1.917107e-02\n",
       "23               Room_Private room  3.115566e-02\n",
       "24                Room_Shared room  4.351550e-03\n",
       "25              Property_Apartment  1.073992e-02\n",
       "26        Property_Bed & Breakfast  4.875236e-04\n",
       "27                   Property_Boat  4.496887e-02\n",
       "28               Property_Bungalow  1.137271e-06\n",
       "29                  Property_Cabin  5.370826e-03\n",
       "30              Property_Camper/RV  1.578159e-05\n",
       "31                 Property_Castle  6.996113e-04\n",
       "32                 Property_Chalet  2.068795e-08\n",
       "33            Property_Condominium  1.286243e-05\n",
       "34                   Property_Dorm  5.296698e-04\n",
       "35            Property_Earth House  1.202190e-05\n",
       "36                  Property_House  1.162828e-02\n",
       "37                 Property_Island  2.431215e-07\n",
       "38                   Property_Loft  1.627584e-04\n",
       "39                  Property_Other  1.718129e-03\n",
       "40          Property_Parking Space  1.208387e-06\n",
       "41                   Property_Tent  5.316875e-06\n",
       "42                   Property_Tipi  5.835473e-06\n",
       "43              Property_Townhouse  2.562956e-04\n",
       "44              Property_Treehouse  5.481698e-07\n",
       "45                  Property_Villa  2.505389e-04\n",
       "46           Cancellation_moderate  3.722761e-03\n",
       "47             Cancellation_strict  1.410158e-02\n",
       "48    Cancellation_super_strict_60  3.715774e-04\n",
       "49                       Bed_Couch  7.240811e-06\n",
       "50                       Bed_Futon  1.464064e-05\n",
       "51               Bed_Pull-out Sofa  3.115380e-05\n",
       "52                    Bed_Real Bed  1.519950e-04"
      ]
     },
     "execution_count": 25,
     "metadata": {},
     "output_type": "execute_result"
    }
   ],
   "source": [
    "pd.DataFrame({'feature':feature_cols, 'importance':rfreg.feature_importances_})"
   ]
  },
  {
   "cell_type": "raw",
   "metadata": {
    "collapsed": true
   },
   "source": []
  },
  {
   "cell_type": "code",
   "execution_count": null,
   "metadata": {
    "collapsed": true
   },
   "outputs": [],
   "source": []
  },
  {
   "cell_type": "code",
   "execution_count": null,
   "metadata": {
    "collapsed": true
   },
   "outputs": [],
   "source": []
  },
  {
   "cell_type": "code",
   "execution_count": null,
   "metadata": {
    "collapsed": true
   },
   "outputs": [],
   "source": []
  },
  {
   "cell_type": "code",
   "execution_count": null,
   "metadata": {
    "collapsed": true
   },
   "outputs": [],
   "source": [
    "# Gradient Boosting"
   ]
  },
  {
   "cell_type": "code",
   "execution_count": 26,
   "metadata": {
    "collapsed": true
   },
   "outputs": [],
   "source": [
    "from sklearn import ensemble\n",
    "from sklearn import datasets\n",
    "from sklearn.utils import shuffle\n",
    "from sklearn.metrics import mean_squared_error\n",
    "\n",
    "###############################################################################\n",
    "# Load data\n",
    "\n",
    "X = X.astype(np.float32)"
   ]
  },
  {
   "cell_type": "code",
   "execution_count": 27,
   "metadata": {
    "collapsed": false
   },
   "outputs": [
    {
     "name": "stdout",
     "output_type": "stream",
     "text": [
      "MSE: 25127.4246\n"
     ]
    }
   ],
   "source": [
    "\n",
    "\n",
    "\n",
    "###############################################################################  'latitude' , 'longitude'\n",
    "# Fit regression model\n",
    "params = {'n_estimators': 500, 'max_depth': 4, 'min_samples_split': 1,\n",
    "          'learning_rate': 0.01, 'loss': 'ls'}\n",
    "gbst = ensemble.GradientBoostingRegressor(**params)\n",
    "\n",
    "gbst.fit(X_train, y_train)\n",
    "mse = mean_squared_error(y_test, gbst.predict(X_test))\n",
    "print(\"MSE: %.4f\" % mse)"
   ]
  },
  {
   "cell_type": "code",
   "execution_count": 46,
   "metadata": {
    "collapsed": false
   },
   "outputs": [
    {
     "data": {
      "text/plain": [
       "0.62294860893326209"
      ]
     },
     "execution_count": 46,
     "metadata": {},
     "output_type": "execute_result"
    }
   ],
   "source": [
    "s_gbst = gbst.score(X_test, y_test) \n",
    "s_gbst"
   ]
  },
  {
   "cell_type": "code",
   "execution_count": null,
   "metadata": {
    "collapsed": true
   },
   "outputs": [],
   "source": []
  },
  {
   "cell_type": "code",
   "execution_count": null,
   "metadata": {
    "collapsed": true
   },
   "outputs": [],
   "source": []
  },
  {
   "cell_type": "code",
   "execution_count": null,
   "metadata": {
    "collapsed": true
   },
   "outputs": [],
   "source": []
  },
  {
   "cell_type": "code",
   "execution_count": null,
   "metadata": {
    "collapsed": false
   },
   "outputs": [],
   "source": [
    "\n",
    "import matplotlib.pyplot as plt\n",
    "\n",
    "###############################################################################\n",
    "# Plot training deviance\n",
    "\n",
    "# compute test set deviance\n",
    "test_score = np.zeros((params['n_estimators'],), dtype=np.float64)\n",
    "\n",
    "for i, y_pred in enumerate(gbst.staged_predict(X_test)):\n",
    "    test_score[i] = gbst.loss_(y_test, y_pred)\n",
    "\n",
    "plt.figure(figsize=(12, 6))\n",
    "plt.title('Deviance')\n",
    "plt.plot(np.arange(params['n_estimators']) + 1, gbst.train_score_, 'b-',\n",
    "         label='Training Set Deviance')\n",
    "plt.plot(np.arange(params['n_estimators']) + 1, test_score, 'r-',\n",
    "         label='Test Set Deviance')\n",
    "plt.legend(loc='upper right')\n",
    "plt.xlabel('Boosting Iterations')\n",
    "plt.ylabel('Deviance')\n",
    "\n"
   ]
  },
  {
   "cell_type": "code",
   "execution_count": null,
   "metadata": {
    "collapsed": false
   },
   "outputs": [],
   "source": [
    "###############################################################################\n",
    "# Plot feature importance\n",
    "feature_importance = gbst.feature_importances_\n",
    "# make importances relative to max importance\n",
    "feature_importance = 100.0 * (feature_importance / feature_importance.max())\n",
    "sorted_idx = np.argsort(feature_importance)\n",
    "pos = np.arange(sorted_idx.shape[0]) + .5\n",
    "plt.figure(figsize=(12, 12))\n",
    "\n",
    "\n",
    "plt.barh(pos, feature_importance[sorted_idx], align='center')\n",
    "plt.yticks(pos, X[sorted_idx])\n",
    "plt.xlabel('Relative Importance')\n",
    "plt.title('Variable Importance')\n",
    "plt.show()"
   ]
  },
  {
   "cell_type": "code",
   "execution_count": null,
   "metadata": {
    "collapsed": true
   },
   "outputs": [],
   "source": []
  },
  {
   "cell_type": "code",
   "execution_count": null,
   "metadata": {
    "collapsed": true
   },
   "outputs": [],
   "source": []
  },
  {
   "cell_type": "code",
   "execution_count": null,
   "metadata": {
    "collapsed": true
   },
   "outputs": [],
   "source": []
  },
  {
   "cell_type": "code",
   "execution_count": null,
   "metadata": {
    "collapsed": true
   },
   "outputs": [],
   "source": [
    "# Gradient Boosting + Kfolds"
   ]
  },
  {
   "cell_type": "code",
   "execution_count": null,
   "metadata": {
    "collapsed": true
   },
   "outputs": [],
   "source": []
  },
  {
   "cell_type": "code",
   "execution_count": 31,
   "metadata": {
    "collapsed": false,
    "scrolled": true
   },
   "outputs": [
    {
     "name": "stdout",
     "output_type": "stream",
     "text": [
      "Accuracy: 0.5948\n"
     ]
    },
    {
     "data": {
      "text/plain": [
       "200"
      ]
     },
     "execution_count": 31,
     "metadata": {},
     "output_type": "execute_result"
    }
   ],
   "source": [
    "import numpy as np\n",
    "import matplotlib.pyplot as plt\n",
    "\n",
    "from sklearn import ensemble\n",
    "from sklearn.cross_validation import KFold\n",
    "from sklearn.cross_validation import train_test_split\n",
    "\n",
    "## y = y.astype(np.float32).as_matrix()\n",
    "\n",
    "X = X.astype(np.float32).as_matrix()\n",
    "y = y.astype(np.float32).as_matrix()\n",
    "\n",
    "X_train, X_test, y_train, y_test = train_test_split(X, y, random_state=1)\n",
    "\n"
   ]
  },
  {
   "cell_type": "code",
   "execution_count": 44,
   "metadata": {
    "collapsed": false
   },
   "outputs": [
    {
     "name": "stdout",
     "output_type": "stream",
     "text": [
      "Accuracy: 0.6230\n"
     ]
    },
    {
     "data": {
      "text/plain": [
       "500"
      ]
     },
     "execution_count": 44,
     "metadata": {},
     "output_type": "execute_result"
    }
   ],
   "source": [
    "# Fit classifier with out-of-bag estimates\n",
    "params = {'n_estimators': 500, 'max_depth': 4, 'min_samples_split': 1,\n",
    "          'learning_rate': 0.01}\n",
    "gbkf = ensemble.GradientBoostingRegressor(**params)\n",
    "\n",
    "gbkf.fit(X_train, y_train)\n",
    "s_gbkf = gbkf.score(X_test, y_test)\n",
    "print(\"Accuracy: {:.4f}\".format(s_gbkf))\n",
    "\n",
    "n_estimators = params['n_estimators']\n",
    "x = np.arange(n_estimators) + 1\n",
    "n_estimators"
   ]
  },
  {
   "cell_type": "code",
   "execution_count": null,
   "metadata": {
    "collapsed": false
   },
   "outputs": [],
   "source": []
  },
  {
   "cell_type": "code",
   "execution_count": null,
   "metadata": {
    "collapsed": false
   },
   "outputs": [],
   "source": []
  },
  {
   "cell_type": "code",
   "execution_count": 41,
   "metadata": {
    "collapsed": false
   },
   "outputs": [
    {
     "name": "stderr",
     "output_type": "stream",
     "text": [
      "/Users/nishantkumar/anaconda/lib/python2.7/site-packages/sklearn/utils/__init__.py:93: DeprecationWarning: Function staged_decision_function is deprecated;  and will be removed in 0.19\n",
      "  warnings.warn(msg, category=DeprecationWarning)\n",
      "/Users/nishantkumar/anaconda/lib/python2.7/site-packages/sklearn/utils/__init__.py:93: DeprecationWarning: Function staged_decision_function is deprecated;  and will be removed in 0.19\n",
      "  warnings.warn(msg, category=DeprecationWarning)\n",
      "/Users/nishantkumar/anaconda/lib/python2.7/site-packages/sklearn/utils/__init__.py:93: DeprecationWarning: Function staged_decision_function is deprecated;  and will be removed in 0.19\n",
      "  warnings.warn(msg, category=DeprecationWarning)\n"
     ]
    }
   ],
   "source": [
    "def heldout_score(gbkf, X_test, y_test):\n",
    "    \"\"\"compute deviance scores on ``X_test`` and ``y_test``. \"\"\"\n",
    "    score = np.zeros((n_estimators,), dtype=np.float64)\n",
    "    for i, y_pred in enumerate(gbkf.staged_decision_function(X_test)):\n",
    "        score[i] = gbkf.loss_(y_test, y_pred)\n",
    "    return score\n",
    "\n",
    "\n",
    "def cv_estimate(n_folds=3):\n",
    "    cv = KFold(n=X_train.shape[0], n_folds=n_folds)\n",
    "    cv_gbkf = ensemble.GradientBoostingRegressor(**params)\n",
    "    val_scores = np.zeros((n_estimators,), dtype=np.float64)\n",
    "    for train, test in cv:\n",
    "        cv_gbkf.fit(X_train[train], y_train[train])\n",
    "        val_scores += heldout_score(cv_gbkf, X_train[test], y_train[test])\n",
    "    val_scores /= n_folds\n",
    "    return val_scores\n",
    "\n",
    "\n",
    "# Estimate best n_estimator using cross-validation\n",
    "cv_score = cv_estimate(3)"
   ]
  },
  {
   "cell_type": "code",
   "execution_count": null,
   "metadata": {
    "collapsed": false
   },
   "outputs": [],
   "source": []
  },
  {
   "cell_type": "code",
   "execution_count": 45,
   "metadata": {
    "collapsed": false
   },
   "outputs": [
    {
     "name": "stdout",
     "output_type": "stream",
     "text": [
      "Accuracy: 0.6211\n"
     ]
    }
   ],
   "source": [
    "s_cv_gbkf = cv_gbkf.score(X_test, y_test)\n",
    "print(\"Accuracy: {:.4f}\".format(s_cv_gbkf))"
   ]
  },
  {
   "cell_type": "code",
   "execution_count": null,
   "metadata": {
    "collapsed": false
   },
   "outputs": [],
   "source": []
  },
  {
   "cell_type": "code",
   "execution_count": null,
   "metadata": {
    "collapsed": false
   },
   "outputs": [],
   "source": []
  },
  {
   "cell_type": "code",
   "execution_count": null,
   "metadata": {
    "collapsed": false
   },
   "outputs": [],
   "source": []
  },
  {
   "cell_type": "code",
   "execution_count": null,
   "metadata": {
    "collapsed": true
   },
   "outputs": [],
   "source": []
  },
  {
   "cell_type": "code",
   "execution_count": 50,
   "metadata": {
    "collapsed": false
   },
   "outputs": [
    {
     "data": {
      "text/html": [
       "<div>\n",
       "<table border=\"1\" class=\"dataframe\">\n",
       "  <thead>\n",
       "    <tr style=\"text-align: right;\">\n",
       "      <th></th>\n",
       "      <th>0</th>\n",
       "      <th>1</th>\n",
       "      <th>2</th>\n",
       "      <th>3</th>\n",
       "      <th>4</th>\n",
       "    </tr>\n",
       "  </thead>\n",
       "  <tbody>\n",
       "    <tr>\n",
       "      <th>0</th>\n",
       "      <td>295</td>\n",
       "      <td>271.144270</td>\n",
       "      <td>308.836667</td>\n",
       "      <td>233.451874</td>\n",
       "      <td>233.451874</td>\n",
       "    </tr>\n",
       "    <tr>\n",
       "      <th>1</th>\n",
       "      <td>89</td>\n",
       "      <td>156.662779</td>\n",
       "      <td>135.210000</td>\n",
       "      <td>178.115559</td>\n",
       "      <td>178.115559</td>\n",
       "    </tr>\n",
       "    <tr>\n",
       "      <th>2</th>\n",
       "      <td>72</td>\n",
       "      <td>70.121479</td>\n",
       "      <td>72.220000</td>\n",
       "      <td>68.022958</td>\n",
       "      <td>68.022958</td>\n",
       "    </tr>\n",
       "    <tr>\n",
       "      <th>3</th>\n",
       "      <td>270</td>\n",
       "      <td>350.131571</td>\n",
       "      <td>332.283333</td>\n",
       "      <td>367.979810</td>\n",
       "      <td>367.979810</td>\n",
       "    </tr>\n",
       "    <tr>\n",
       "      <th>4</th>\n",
       "      <td>97</td>\n",
       "      <td>87.943079</td>\n",
       "      <td>86.670000</td>\n",
       "      <td>89.216158</td>\n",
       "      <td>89.216158</td>\n",
       "    </tr>\n",
       "    <tr>\n",
       "      <th>5</th>\n",
       "      <td>129</td>\n",
       "      <td>87.843391</td>\n",
       "      <td>111.276667</td>\n",
       "      <td>64.410116</td>\n",
       "      <td>64.410116</td>\n",
       "    </tr>\n",
       "    <tr>\n",
       "      <th>6</th>\n",
       "      <td>610</td>\n",
       "      <td>521.826985</td>\n",
       "      <td>650.776667</td>\n",
       "      <td>392.877303</td>\n",
       "      <td>392.877303</td>\n",
       "    </tr>\n",
       "    <tr>\n",
       "      <th>7</th>\n",
       "      <td>80</td>\n",
       "      <td>74.454708</td>\n",
       "      <td>85.913333</td>\n",
       "      <td>62.996082</td>\n",
       "      <td>62.996082</td>\n",
       "    </tr>\n",
       "    <tr>\n",
       "      <th>8</th>\n",
       "      <td>80</td>\n",
       "      <td>74.422483</td>\n",
       "      <td>85.126667</td>\n",
       "      <td>63.718299</td>\n",
       "      <td>63.718299</td>\n",
       "    </tr>\n",
       "    <tr>\n",
       "      <th>9</th>\n",
       "      <td>65</td>\n",
       "      <td>65.584393</td>\n",
       "      <td>67.086667</td>\n",
       "      <td>64.082120</td>\n",
       "      <td>64.082120</td>\n",
       "    </tr>\n",
       "    <tr>\n",
       "      <th>10</th>\n",
       "      <td>55</td>\n",
       "      <td>56.224831</td>\n",
       "      <td>59.970000</td>\n",
       "      <td>52.479662</td>\n",
       "      <td>52.479662</td>\n",
       "    </tr>\n",
       "    <tr>\n",
       "      <th>11</th>\n",
       "      <td>60</td>\n",
       "      <td>61.984683</td>\n",
       "      <td>65.260000</td>\n",
       "      <td>58.709367</td>\n",
       "      <td>58.709367</td>\n",
       "    </tr>\n",
       "    <tr>\n",
       "      <th>12</th>\n",
       "      <td>80</td>\n",
       "      <td>65.693887</td>\n",
       "      <td>80.050000</td>\n",
       "      <td>51.337774</td>\n",
       "      <td>51.337774</td>\n",
       "    </tr>\n",
       "    <tr>\n",
       "      <th>13</th>\n",
       "      <td>80</td>\n",
       "      <td>194.428566</td>\n",
       "      <td>174.443333</td>\n",
       "      <td>214.413800</td>\n",
       "      <td>214.413800</td>\n",
       "    </tr>\n",
       "    <tr>\n",
       "      <th>14</th>\n",
       "      <td>80</td>\n",
       "      <td>78.270960</td>\n",
       "      <td>85.466667</td>\n",
       "      <td>71.075253</td>\n",
       "      <td>71.075253</td>\n",
       "    </tr>\n",
       "    <tr>\n",
       "      <th>15</th>\n",
       "      <td>60</td>\n",
       "      <td>61.537748</td>\n",
       "      <td>62.236667</td>\n",
       "      <td>60.838829</td>\n",
       "      <td>60.838829</td>\n",
       "    </tr>\n",
       "    <tr>\n",
       "      <th>16</th>\n",
       "      <td>50</td>\n",
       "      <td>62.631236</td>\n",
       "      <td>58.156667</td>\n",
       "      <td>67.105805</td>\n",
       "      <td>67.105805</td>\n",
       "    </tr>\n",
       "    <tr>\n",
       "      <th>17</th>\n",
       "      <td>99</td>\n",
       "      <td>113.972614</td>\n",
       "      <td>110.423333</td>\n",
       "      <td>117.521895</td>\n",
       "      <td>117.521895</td>\n",
       "    </tr>\n",
       "    <tr>\n",
       "      <th>18</th>\n",
       "      <td>80</td>\n",
       "      <td>99.197191</td>\n",
       "      <td>103.920000</td>\n",
       "      <td>94.474381</td>\n",
       "      <td>94.474381</td>\n",
       "    </tr>\n",
       "    <tr>\n",
       "      <th>19</th>\n",
       "      <td>200</td>\n",
       "      <td>179.821625</td>\n",
       "      <td>193.210000</td>\n",
       "      <td>166.433249</td>\n",
       "      <td>166.433249</td>\n",
       "    </tr>\n",
       "    <tr>\n",
       "      <th>20</th>\n",
       "      <td>47</td>\n",
       "      <td>59.549446</td>\n",
       "      <td>54.186667</td>\n",
       "      <td>64.912224</td>\n",
       "      <td>64.912224</td>\n",
       "    </tr>\n",
       "    <tr>\n",
       "      <th>21</th>\n",
       "      <td>45</td>\n",
       "      <td>269.865942</td>\n",
       "      <td>89.920000</td>\n",
       "      <td>449.811883</td>\n",
       "      <td>449.811883</td>\n",
       "    </tr>\n",
       "    <tr>\n",
       "      <th>22</th>\n",
       "      <td>45</td>\n",
       "      <td>81.464870</td>\n",
       "      <td>77.010000</td>\n",
       "      <td>85.919740</td>\n",
       "      <td>85.919740</td>\n",
       "    </tr>\n",
       "    <tr>\n",
       "      <th>23</th>\n",
       "      <td>45</td>\n",
       "      <td>110.727309</td>\n",
       "      <td>94.740000</td>\n",
       "      <td>126.714618</td>\n",
       "      <td>126.714618</td>\n",
       "    </tr>\n",
       "    <tr>\n",
       "      <th>24</th>\n",
       "      <td>121</td>\n",
       "      <td>166.215108</td>\n",
       "      <td>160.773333</td>\n",
       "      <td>171.698155</td>\n",
       "      <td>171.656882</td>\n",
       "    </tr>\n",
       "    <tr>\n",
       "      <th>25</th>\n",
       "      <td>97</td>\n",
       "      <td>94.326481</td>\n",
       "      <td>93.220000</td>\n",
       "      <td>95.432963</td>\n",
       "      <td>95.432963</td>\n",
       "    </tr>\n",
       "    <tr>\n",
       "      <th>26</th>\n",
       "      <td>45</td>\n",
       "      <td>76.991412</td>\n",
       "      <td>64.766667</td>\n",
       "      <td>89.216158</td>\n",
       "      <td>89.216158</td>\n",
       "    </tr>\n",
       "    <tr>\n",
       "      <th>27</th>\n",
       "      <td>55</td>\n",
       "      <td>61.342681</td>\n",
       "      <td>61.470000</td>\n",
       "      <td>61.215363</td>\n",
       "      <td>61.215363</td>\n",
       "    </tr>\n",
       "    <tr>\n",
       "      <th>28</th>\n",
       "      <td>55</td>\n",
       "      <td>63.600942</td>\n",
       "      <td>63.386667</td>\n",
       "      <td>63.815218</td>\n",
       "      <td>63.815218</td>\n",
       "    </tr>\n",
       "    <tr>\n",
       "      <th>29</th>\n",
       "      <td>99</td>\n",
       "      <td>120.221694</td>\n",
       "      <td>131.693333</td>\n",
       "      <td>108.750056</td>\n",
       "      <td>108.750056</td>\n",
       "    </tr>\n",
       "    <tr>\n",
       "      <th>30</th>\n",
       "      <td>150</td>\n",
       "      <td>122.001694</td>\n",
       "      <td>135.253333</td>\n",
       "      <td>108.750056</td>\n",
       "      <td>108.750056</td>\n",
       "    </tr>\n",
       "    <tr>\n",
       "      <th>31</th>\n",
       "      <td>50</td>\n",
       "      <td>94.749724</td>\n",
       "      <td>75.286667</td>\n",
       "      <td>114.212782</td>\n",
       "      <td>114.212782</td>\n",
       "    </tr>\n",
       "    <tr>\n",
       "      <th>32</th>\n",
       "      <td>48</td>\n",
       "      <td>83.978436</td>\n",
       "      <td>64.290000</td>\n",
       "      <td>103.666873</td>\n",
       "      <td>103.666873</td>\n",
       "    </tr>\n",
       "    <tr>\n",
       "      <th>33</th>\n",
       "      <td>70</td>\n",
       "      <td>186.396396</td>\n",
       "      <td>140.013333</td>\n",
       "      <td>232.779458</td>\n",
       "      <td>232.779458</td>\n",
       "    </tr>\n",
       "    <tr>\n",
       "      <th>34</th>\n",
       "      <td>80</td>\n",
       "      <td>86.200589</td>\n",
       "      <td>84.333333</td>\n",
       "      <td>88.067844</td>\n",
       "      <td>88.067844</td>\n",
       "    </tr>\n",
       "    <tr>\n",
       "      <th>35</th>\n",
       "      <td>35</td>\n",
       "      <td>71.784669</td>\n",
       "      <td>48.266667</td>\n",
       "      <td>95.302671</td>\n",
       "      <td>95.302671</td>\n",
       "    </tr>\n",
       "    <tr>\n",
       "      <th>36</th>\n",
       "      <td>35</td>\n",
       "      <td>64.435316</td>\n",
       "      <td>48.726667</td>\n",
       "      <td>80.143966</td>\n",
       "      <td>80.143966</td>\n",
       "    </tr>\n",
       "    <tr>\n",
       "      <th>37</th>\n",
       "      <td>150</td>\n",
       "      <td>152.355368</td>\n",
       "      <td>156.020000</td>\n",
       "      <td>148.690736</td>\n",
       "      <td>148.690736</td>\n",
       "    </tr>\n",
       "    <tr>\n",
       "      <th>38</th>\n",
       "      <td>70</td>\n",
       "      <td>87.360903</td>\n",
       "      <td>72.836667</td>\n",
       "      <td>101.885139</td>\n",
       "      <td>101.885139</td>\n",
       "    </tr>\n",
       "    <tr>\n",
       "      <th>39</th>\n",
       "      <td>801</td>\n",
       "      <td>543.434470</td>\n",
       "      <td>629.610000</td>\n",
       "      <td>457.258940</td>\n",
       "      <td>457.258940</td>\n",
       "    </tr>\n",
       "    <tr>\n",
       "      <th>40</th>\n",
       "      <td>50</td>\n",
       "      <td>61.787625</td>\n",
       "      <td>57.050000</td>\n",
       "      <td>66.525251</td>\n",
       "      <td>66.525251</td>\n",
       "    </tr>\n",
       "    <tr>\n",
       "      <th>41</th>\n",
       "      <td>84</td>\n",
       "      <td>106.151894</td>\n",
       "      <td>94.476667</td>\n",
       "      <td>117.827122</td>\n",
       "      <td>117.827122</td>\n",
       "    </tr>\n",
       "    <tr>\n",
       "      <th>42</th>\n",
       "      <td>80</td>\n",
       "      <td>111.457596</td>\n",
       "      <td>99.423333</td>\n",
       "      <td>123.491858</td>\n",
       "      <td>123.491858</td>\n",
       "    </tr>\n",
       "    <tr>\n",
       "      <th>43</th>\n",
       "      <td>38</td>\n",
       "      <td>55.352460</td>\n",
       "      <td>45.520000</td>\n",
       "      <td>65.184920</td>\n",
       "      <td>65.184920</td>\n",
       "    </tr>\n",
       "    <tr>\n",
       "      <th>44</th>\n",
       "      <td>50</td>\n",
       "      <td>95.169726</td>\n",
       "      <td>89.523333</td>\n",
       "      <td>100.844987</td>\n",
       "      <td>100.816118</td>\n",
       "    </tr>\n",
       "    <tr>\n",
       "      <th>45</th>\n",
       "      <td>60</td>\n",
       "      <td>67.827017</td>\n",
       "      <td>67.933333</td>\n",
       "      <td>67.720701</td>\n",
       "      <td>67.720701</td>\n",
       "    </tr>\n",
       "    <tr>\n",
       "      <th>46</th>\n",
       "      <td>89</td>\n",
       "      <td>75.131577</td>\n",
       "      <td>84.543333</td>\n",
       "      <td>65.719821</td>\n",
       "      <td>65.719821</td>\n",
       "    </tr>\n",
       "    <tr>\n",
       "      <th>47</th>\n",
       "      <td>20</td>\n",
       "      <td>63.993272</td>\n",
       "      <td>41.393333</td>\n",
       "      <td>86.593212</td>\n",
       "      <td>86.593212</td>\n",
       "    </tr>\n",
       "    <tr>\n",
       "      <th>48</th>\n",
       "      <td>28</td>\n",
       "      <td>82.191330</td>\n",
       "      <td>60.070000</td>\n",
       "      <td>104.312660</td>\n",
       "      <td>104.312660</td>\n",
       "    </tr>\n",
       "    <tr>\n",
       "      <th>49</th>\n",
       "      <td>48</td>\n",
       "      <td>74.176846</td>\n",
       "      <td>58.906667</td>\n",
       "      <td>89.447026</td>\n",
       "      <td>89.447026</td>\n",
       "    </tr>\n",
       "  </tbody>\n",
       "</table>\n",
       "</div>"
      ],
      "text/plain": [
       "      0           1           2           3           4\n",
       "0   295  271.144270  308.836667  233.451874  233.451874\n",
       "1    89  156.662779  135.210000  178.115559  178.115559\n",
       "2    72   70.121479   72.220000   68.022958   68.022958\n",
       "3   270  350.131571  332.283333  367.979810  367.979810\n",
       "4    97   87.943079   86.670000   89.216158   89.216158\n",
       "5   129   87.843391  111.276667   64.410116   64.410116\n",
       "6   610  521.826985  650.776667  392.877303  392.877303\n",
       "7    80   74.454708   85.913333   62.996082   62.996082\n",
       "8    80   74.422483   85.126667   63.718299   63.718299\n",
       "9    65   65.584393   67.086667   64.082120   64.082120\n",
       "10   55   56.224831   59.970000   52.479662   52.479662\n",
       "11   60   61.984683   65.260000   58.709367   58.709367\n",
       "12   80   65.693887   80.050000   51.337774   51.337774\n",
       "13   80  194.428566  174.443333  214.413800  214.413800\n",
       "14   80   78.270960   85.466667   71.075253   71.075253\n",
       "15   60   61.537748   62.236667   60.838829   60.838829\n",
       "16   50   62.631236   58.156667   67.105805   67.105805\n",
       "17   99  113.972614  110.423333  117.521895  117.521895\n",
       "18   80   99.197191  103.920000   94.474381   94.474381\n",
       "19  200  179.821625  193.210000  166.433249  166.433249\n",
       "20   47   59.549446   54.186667   64.912224   64.912224\n",
       "21   45  269.865942   89.920000  449.811883  449.811883\n",
       "22   45   81.464870   77.010000   85.919740   85.919740\n",
       "23   45  110.727309   94.740000  126.714618  126.714618\n",
       "24  121  166.215108  160.773333  171.698155  171.656882\n",
       "25   97   94.326481   93.220000   95.432963   95.432963\n",
       "26   45   76.991412   64.766667   89.216158   89.216158\n",
       "27   55   61.342681   61.470000   61.215363   61.215363\n",
       "28   55   63.600942   63.386667   63.815218   63.815218\n",
       "29   99  120.221694  131.693333  108.750056  108.750056\n",
       "30  150  122.001694  135.253333  108.750056  108.750056\n",
       "31   50   94.749724   75.286667  114.212782  114.212782\n",
       "32   48   83.978436   64.290000  103.666873  103.666873\n",
       "33   70  186.396396  140.013333  232.779458  232.779458\n",
       "34   80   86.200589   84.333333   88.067844   88.067844\n",
       "35   35   71.784669   48.266667   95.302671   95.302671\n",
       "36   35   64.435316   48.726667   80.143966   80.143966\n",
       "37  150  152.355368  156.020000  148.690736  148.690736\n",
       "38   70   87.360903   72.836667  101.885139  101.885139\n",
       "39  801  543.434470  629.610000  457.258940  457.258940\n",
       "40   50   61.787625   57.050000   66.525251   66.525251\n",
       "41   84  106.151894   94.476667  117.827122  117.827122\n",
       "42   80  111.457596   99.423333  123.491858  123.491858\n",
       "43   38   55.352460   45.520000   65.184920   65.184920\n",
       "44   50   95.169726   89.523333  100.844987  100.816118\n",
       "45   60   67.827017   67.933333   67.720701   67.720701\n",
       "46   89   75.131577   84.543333   65.719821   65.719821\n",
       "47   20   63.993272   41.393333   86.593212   86.593212\n",
       "48   28   82.191330   60.070000  104.312660  104.312660\n",
       "49   48   74.176846   58.906667   89.447026   89.447026"
      ]
     },
     "execution_count": 50,
     "metadata": {},
     "output_type": "execute_result"
    }
   ],
   "source": [
    "y = pd.DataFrame(y)\n",
    "X = pd.DataFrame(X)\n",
    "\n",
    "y_reg = rfreg.predict(X)\n",
    "y_gbst = gbst.predict(X)\n",
    "y_gbkf = gbkf.predict(X)\n",
    "y_cv_gbkf = cv_gbkf.predict(X)\n",
    "\n",
    "y_avg = np.mean( np.array([ y_reg, y_cv_gbkf ]), axis=0 )\n",
    "\n",
    "y_reg = pd.DataFrame(y_reg)\n",
    "y_gbst = pd.DataFrame(y_gbst)\n",
    "y_gbkf = pd.DataFrame(y_gbkf)\n",
    "y_cv_gbkf = pd.DataFrame(y_cv_gbkf)\n",
    "y_avg = pd.DataFrame(y_avg)\n",
    "\n",
    "result = pd.concat([y, y_avg, y_reg, y_gbst, y_cv_gbkf], axis=1, ignore_index=True)\n",
    "result.head(50)"
   ]
  },
  {
   "cell_type": "code",
   "execution_count": null,
   "metadata": {
    "collapsed": false
   },
   "outputs": [],
   "source": []
  },
  {
   "cell_type": "code",
   "execution_count": null,
   "metadata": {
    "collapsed": true
   },
   "outputs": [],
   "source": []
  },
  {
   "cell_type": "code",
   "execution_count": null,
   "metadata": {
    "collapsed": false
   },
   "outputs": [],
   "source": [
    "# Compute best n_estimator for test data\n",
    "test_score = heldout_score(gbkf, X_test, y_test)\n",
    "\n",
    "# negative cumulative sum of oob improvements\n",
    "cumsum = -np.cumsum(cv_gbkf.oob_improvement_)\n",
    "\n",
    "# min loss according to OOB\n",
    "oob_best_iter = x[np.argmin(cumsum)]\n",
    "\n",
    "# min loss according to test (normalize such that first loss is 0)\n",
    "test_score -= test_score[0]\n",
    "test_best_iter = x[np.argmin(test_score)]\n",
    "\n",
    "# min loss according to cv (normalize such that first loss is 0)\n",
    "cv_score -= cv_score[0]\n",
    "cv_best_iter = x[np.argmin(cv_score)]\n",
    "\n",
    "# color brew for the three curves\n",
    "oob_color = list(map(lambda x: x / 256.0, (190, 174, 212)))\n",
    "test_color = list(map(lambda x: x / 256.0, (127, 201, 127)))\n",
    "cv_color = list(map(lambda x: x / 256.0, (253, 192, 134)))\n",
    "\n",
    "# plot curves and vertical lines for best iterations\n",
    "plt.plot(x, cumsum, label='OOB loss', color=oob_color)\n",
    "plt.plot(x, test_score, label='Test loss', color=test_color)\n",
    "plt.plot(x, cv_score, label='CV loss', color=cv_color)\n",
    "plt.axvline(x=oob_best_iter, color=oob_color)\n",
    "plt.axvline(x=test_best_iter, color=test_color)\n",
    "plt.axvline(x=cv_best_iter, color=cv_color)\n",
    "\n",
    "# add three vertical lines to xticks\n",
    "xticks = plt.xticks()\n",
    "xticks_pos = np.array(xticks[0].tolist() +\n",
    "                      [oob_best_iter, cv_best_iter, test_best_iter])\n",
    "xticks_label = np.array(list(map(lambda t: int(t), xticks[0])) +\n",
    "                        ['OOB', 'CV', 'Test'])\n",
    "ind = np.argsort(xticks_pos)\n",
    "xticks_pos = xticks_pos[ind]\n",
    "xticks_label = xticks_label[ind]\n",
    "plt.xticks(xticks_pos, xticks_label)\n",
    "\n",
    "plt.legend(loc='upper right')\n",
    "plt.ylabel('normalized loss')\n",
    "plt.xlabel('number of iterations')\n",
    "\n",
    "plt.show()"
   ]
  },
  {
   "cell_type": "code",
   "execution_count": null,
   "metadata": {
    "collapsed": false
   },
   "outputs": [],
   "source": []
  },
  {
   "cell_type": "code",
   "execution_count": null,
   "metadata": {
    "collapsed": true
   },
   "outputs": [],
   "source": []
  },
  {
   "cell_type": "code",
   "execution_count": null,
   "metadata": {
    "collapsed": true
   },
   "outputs": [],
   "source": []
  },
  {
   "cell_type": "code",
   "execution_count": null,
   "metadata": {
    "collapsed": false
   },
   "outputs": [],
   "source": []
  },
  {
   "cell_type": "code",
   "execution_count": null,
   "metadata": {
    "collapsed": true
   },
   "outputs": [],
   "source": []
  },
  {
   "cell_type": "code",
   "execution_count": null,
   "metadata": {
    "collapsed": true
   },
   "outputs": [],
   "source": []
  },
  {
   "cell_type": "code",
   "execution_count": null,
   "metadata": {
    "collapsed": false
   },
   "outputs": [],
   "source": [
    "from sklearn import cross_validation, datasets, linear_model\n",
    "lasso = linear_model.Lasso()\n",
    "alphas = np.logspace(-2, -0.5, 10)\n",
    "\n",
    "scores = list()\n",
    "scores_std = list()\n",
    "\n",
    "for alpha in alphas:\n",
    "    lasso.alpha = alpha\n",
    "    this_scores = cross_validation.cross_val_score(lasso, X, y, n_jobs=1)\n",
    "    scores.append(np.mean(this_scores))\n",
    "    scores_std.append(np.std(this_scores))\n",
    "\n",
    "plt.figure(figsize=(4, 3))\n",
    "plt.semilogx(alphas, scores)\n",
    "# plot error lines showing +/- std. errors of the scores\n",
    "plt.semilogx(alphas, np.array(scores) + np.array(scores_std) / np.sqrt(len(X)),\n",
    "             'b--')\n",
    "plt.semilogx(alphas, np.array(scores) - np.array(scores_std) / np.sqrt(len(X)),\n",
    "             'b--')\n",
    "plt.ylabel('CV score')\n",
    "plt.xlabel('alpha')\n",
    "plt.axhline(np.max(scores), linestyle='--', color='.5')\n",
    "\n"
   ]
  },
  {
   "cell_type": "code",
   "execution_count": null,
   "metadata": {
    "collapsed": false,
    "scrolled": true
   },
   "outputs": [],
   "source": [
    "##############################################################################\n",
    "# Bonus: how much can you trust the selection of alpha?\n",
    "\n",
    "# To answer this question we use the LassoCV object that sets its alpha\n",
    "# parameter automatically from the data by internal cross-validation (i.e. it\n",
    "# performs cross-validation on the training data it receives).\n",
    "# We use external cross-validation to see how much the automatically obtained\n",
    "# alphas differ across different cross-validation folds.\n",
    "lasso_cv = linear_model.LassoCV(alphas=alphas)\n",
    "k_fold = cross_validation.KFold(len(X), 3)\n",
    "y = np.array(y)\n",
    "X = np.array(X)\n",
    "print(\"Answer to the bonus question:\",\n",
    "      \"how much can you trust the selection of alpha?\")\n",
    "print()\n",
    "print(\"Alpha parameters maximising the generalization score on different\")\n",
    "print(\"subsets of the data:\")\n",
    "for k, (train, test) in enumerate(k_fold):\n",
    "    lasso_cv.fit(X[train], y[train])\n",
    "    print(\"[fold {0}] alpha: {1:.5f}, score: {2:.5f}\".\n",
    "          format(k, lasso_cv.alpha_, lasso_cv.score(X[test], y[test])))\n",
    "print()\n",
    "print(\"Answer: Not very much since we obtained different alphas for different\")\n",
    "print(\"subsets of the data and moreover, the scores for these alphas differ\")\n",
    "print(\"quite substantially.\")\n",
    "\n",
    "plt.show()"
   ]
  },
  {
   "cell_type": "code",
   "execution_count": null,
   "metadata": {
    "collapsed": true
   },
   "outputs": [],
   "source": []
  },
  {
   "cell_type": "code",
   "execution_count": null,
   "metadata": {
    "collapsed": true
   },
   "outputs": [],
   "source": []
  },
  {
   "cell_type": "code",
   "execution_count": null,
   "metadata": {
    "collapsed": true
   },
   "outputs": [],
   "source": [
    "# XG Boost  ( Cant Install!!!!)"
   ]
  },
  {
   "cell_type": "code",
   "execution_count": null,
   "metadata": {
    "collapsed": true
   },
   "outputs": [],
   "source": [
    "#from sklearn.cross_validation import train_test_split\n",
    "#X_train, X_test, y_train, y_test = train_test_split(X, y, random_state=1)"
   ]
  },
  {
   "cell_type": "code",
   "execution_count": null,
   "metadata": {
    "collapsed": false
   },
   "outputs": [],
   "source": [
    "#! pip install --upgrade xgboost"
   ]
  },
  {
   "cell_type": "code",
   "execution_count": null,
   "metadata": {
    "collapsed": false
   },
   "outputs": [],
   "source": [
    "#import xgboost as xgb\n",
    "#from sklearn.preprocessing import LabelEncoder\n",
    "#import numpy as np\n",
    "#from sklearn.cross_validation import KFold, train_test_split\n",
    "#from sklearn.metrics import confusion_matrix, mean_squared_error\n",
    "#from sklearn.grid_search import GridSearchCV"
   ]
  },
  {
   "cell_type": "code",
   "execution_count": null,
   "metadata": {
    "collapsed": true
   },
   "outputs": [],
   "source": []
  },
  {
   "cell_type": "code",
   "execution_count": null,
   "metadata": {
    "collapsed": false
   },
   "outputs": [],
   "source": [
    "#gbm = xgb.XGBRegressor(max_depth=3, n_estimators=300, learning_rate=0.05).fit(X_train, y_train)"
   ]
  },
  {
   "cell_type": "code",
   "execution_count": null,
   "metadata": {
    "collapsed": true
   },
   "outputs": [],
   "source": [
    "#predictions = gbm.predict(X_test)\n"
   ]
  },
  {
   "cell_type": "code",
   "execution_count": null,
   "metadata": {
    "collapsed": true
   },
   "outputs": [],
   "source": [
    "#err = []\n",
    "#kf = KFold(y.shape[0], n_folds=2, shuffle=True, random_state=rng)\n",
    "#for train_index, test_index in kf:\n",
    "#    xgb_model = xgb.XGBRegressor().fit(X[train_index],y[train_index])\n",
    "#    predictions = xgb_model.predict(X[test_index])\n",
    "#    actuals = y[test_index]\n",
    "#    err.append(mean_squared_error(actuals, predictions))\n",
    "#err\n"
   ]
  },
  {
   "cell_type": "code",
   "execution_count": null,
   "metadata": {
    "collapsed": true
   },
   "outputs": [],
   "source": []
  },
  {
   "cell_type": "code",
   "execution_count": null,
   "metadata": {
    "collapsed": false
   },
   "outputs": [],
   "source": [
    "y.head(10)"
   ]
  },
  {
   "cell_type": "code",
   "execution_count": null,
   "metadata": {
    "collapsed": false
   },
   "outputs": [],
   "source": [
    "from sklearn.cross_validation import KFold\n",
    "\n",
    "def run_cv(X,y,clf_class,**kwargs):\n",
    "    kf = KFold(len(y),n_folds=5,shuffle=True)\n",
    "    y_pred = y.copy()\n",
    "   \n",
    "   # Iterate through folds\n",
    "    for train_index, test_index in kf:\n",
    "        X_train, X_test = X[train_index], X[test_index]\n",
    "        y_train = y[train_index]\n",
    "        \n",
    "        clf = clf_class(**kwargs)\n",
    "        clf.fit(X_train,y_train)\n",
    "        y_pred[test_index] = clf.predict(X_test)\n",
    "    return y_pred"
   ]
  },
  {
   "cell_type": "code",
   "execution_count": null,
   "metadata": {
    "collapsed": false
   },
   "outputs": [],
   "source": [
    "\n",
    "from sklearn.svm import SVR\n",
    "from sklearn.ensemble import RandomForestRegressor as RF\n",
    "from sklearn.neighbors import KNeighborsRegressor as KNN\n",
    "\n",
    "def accuracy(y_true,y_pred):\n",
    "    return np.mean(y_true == y_pred)\n",
    "\n"
   ]
  },
  {
   "cell_type": "code",
   "execution_count": null,
   "metadata": {
    "collapsed": false
   },
   "outputs": [],
   "source": []
  },
  {
   "cell_type": "code",
   "execution_count": null,
   "metadata": {
    "collapsed": false
   },
   "outputs": [],
   "source": []
  },
  {
   "cell_type": "code",
   "execution_count": null,
   "metadata": {
    "collapsed": false
   },
   "outputs": [],
   "source": [
    "print(\"Support vector machines:\")\n",
    "#print(\"%.3f\" % accuracy(y, run_cv(X1,y,SVR)))\n",
    "print(\"Random forest:\")\n",
    "print(\"%.3f\" % accuracy(y, run_cv(X1,y,RF, \"n_estimators=1000, max_features=8, oob_score=True, random_state=1\")))\n",
    "print(\"K-nearest-neighbors:\")\n",
    "#print(\"%.3f\" % accuracy(y, run_cv(X1,y,KNN)))"
   ]
  },
  {
   "cell_type": "code",
   "execution_count": null,
   "metadata": {
    "collapsed": true
   },
   "outputs": [],
   "source": []
  },
  {
   "cell_type": "code",
   "execution_count": null,
   "metadata": {
    "collapsed": false
   },
   "outputs": [],
   "source": [
    "\n"
   ]
  },
  {
   "cell_type": "code",
   "execution_count": null,
   "metadata": {
    "collapsed": false,
    "scrolled": true
   },
   "outputs": [],
   "source": []
  },
  {
   "cell_type": "code",
   "execution_count": null,
   "metadata": {
    "collapsed": true
   },
   "outputs": [],
   "source": []
  },
  {
   "cell_type": "code",
   "execution_count": null,
   "metadata": {
    "collapsed": true
   },
   "outputs": [],
   "source": []
  },
  {
   "cell_type": "code",
   "execution_count": null,
   "metadata": {
    "collapsed": true
   },
   "outputs": [],
   "source": []
  },
  {
   "cell_type": "code",
   "execution_count": null,
   "metadata": {
    "collapsed": false
   },
   "outputs": [],
   "source": []
  },
  {
   "cell_type": "code",
   "execution_count": null,
   "metadata": {
    "collapsed": false,
    "scrolled": true
   },
   "outputs": [],
   "source": [
    "#pd.scatter_matrix(listings_data2_clean, figsize=(10,10))"
   ]
  },
  {
   "cell_type": "code",
   "execution_count": null,
   "metadata": {
    "collapsed": false,
    "scrolled": true
   },
   "outputs": [],
   "source": []
  },
  {
   "cell_type": "code",
   "execution_count": null,
   "metadata": {
    "collapsed": false
   },
   "outputs": [],
   "source": [
    "#Predicted price vs accomodates\n",
    "#print linreg.predict([1,-33.61,151.28])\n",
    "\n",
    "#price_pred = linreg.predict(X)\n",
    "#plt.plot(listings_data2.accommodates, price_pred, color='red')\n",
    "\n",
    "#plt.scatter(listings_data2.accommodates, listings_data2.price)\n"
   ]
  },
  {
   "cell_type": "code",
   "execution_count": null,
   "metadata": {
    "collapsed": false
   },
   "outputs": [],
   "source": [
    "# Plot reviews per month vs price\n",
    "\n",
    "#plt.scatter(listings_data2.reviews_per_month, listings_data2.price)"
   ]
  },
  {
   "cell_type": "code",
   "execution_count": null,
   "metadata": {
    "collapsed": true
   },
   "outputs": [],
   "source": []
  },
  {
   "cell_type": "code",
   "execution_count": null,
   "metadata": {
    "collapsed": true
   },
   "outputs": [],
   "source": []
  },
  {
   "cell_type": "code",
   "execution_count": null,
   "metadata": {
    "collapsed": true
   },
   "outputs": [],
   "source": []
  },
  {
   "cell_type": "code",
   "execution_count": null,
   "metadata": {
    "collapsed": false
   },
   "outputs": [],
   "source": []
  },
  {
   "cell_type": "code",
   "execution_count": null,
   "metadata": {
    "collapsed": true
   },
   "outputs": [],
   "source": []
  },
  {
   "cell_type": "code",
   "execution_count": null,
   "metadata": {
    "collapsed": true
   },
   "outputs": [],
   "source": []
  },
  {
   "cell_type": "code",
   "execution_count": null,
   "metadata": {
    "collapsed": false,
    "scrolled": true
   },
   "outputs": [],
   "source": [
    "#install plotly\n",
    "\n",
    "#! pip install plotly\n"
   ]
  },
  {
   "cell_type": "code",
   "execution_count": null,
   "metadata": {
    "collapsed": false
   },
   "outputs": [],
   "source": [
    "import plotly\n",
    "print plotly.__version__  # version >1.9.4 required\n",
    "from plotly.graph_objs import Scatter, Layout\n",
    "from plotly.offline import download_plotlyjs, init_notebook_mode, iplot\n",
    "init_notebook_mode()"
   ]
  },
  {
   "cell_type": "code",
   "execution_count": null,
   "metadata": {
    "collapsed": false
   },
   "outputs": [],
   "source": [
    "price_map = listings_data2_final[[ 'price' , 'longitude' ,  'latitude']]"
   ]
  },
  {
   "cell_type": "code",
   "execution_count": null,
   "metadata": {
    "collapsed": true
   },
   "outputs": [],
   "source": []
  },
  {
   "cell_type": "code",
   "execution_count": null,
   "metadata": {
    "collapsed": true
   },
   "outputs": [],
   "source": []
  },
  {
   "cell_type": "code",
   "execution_count": null,
   "metadata": {
    "collapsed": false,
    "scrolled": true
   },
   "outputs": [],
   "source": [
    "#color pattern\n",
    "scl = [0,\"rgb(150,0,90)\"],[0.125,\"rgb(0, 0, 200)\"],[0.25,\"rgb(0, 25, 255)\"],\\\n",
    "[0.375,\"rgb(0, 152, 255)\"],[0.5,\"rgb(44, 255, 150)\"],[0.625,\"rgb(151, 255, 0)\"],\\\n",
    "[0.75,\"rgb(255, 234, 0)\"],[0.875,\"rgb(255, 111, 0)\"],[1,\"rgb(255, 0, 0)\"]\n",
    "\n",
    "listings = [ dict(\n",
    "        type = 'scattergeo',\n",
    "        locationmode = 'USA-states',\n",
    "        lon = price_map['longitude'],\n",
    "        lat = price_map['latitude'],\n",
    "        hoverinfo = 'text',\n",
    "        text = '$' + price_map['price'].astype(str),\n",
    "        mode = 'markers',\n",
    "        marker = dict(\n",
    "            color = price_map['price'],\n",
    "            colorscale = scl,\n",
    "            cmin = 5,\n",
    "            cmax = 400,\n",
    "            reversescale = True,\n",
    "            opacity = 0.7,\n",
    "            size = 2,        \n",
    "            colorbar = dict(\n",
    "                thickness = 10,\n",
    "                titleside = \"right\",\n",
    "                outlinecolor = \"rgba(68, 68, 68, 0)\",\n",
    "                ticks = \"outside\",\n",
    "                ticklen = 3,\n",
    "                showticksuffix = \"last\",\n",
    "                tickprefix = \"$\",\n",
    "                dtick = 0.1\n",
    "            ),                \n",
    "        ),\n",
    "        \n",
    "       )]\n",
    "\n",
    "\n",
    "layout = dict(\n",
    "        title = 'Airbnb Prices in NSW',\n",
    "        showlegend = False,\n",
    "        height = 800,\n",
    "    \n",
    "        geo = dict(\n",
    "        scope = 'world',\n",
    "        showland = True,\n",
    "        landcolor = \"rgb(212, 212, 212)\",\n",
    "        subunitcolor = \"rgb(255, 255, 255)\",\n",
    "        countrycolor = \"rgb(255, 255, 255)\",\n",
    "        showlakes = True,\n",
    "        lakecolor = \"rgb(255, 255, 255)\",\n",
    "        showsubunits = True,\n",
    "        showcountries = True,\n",
    "        resolution = 50,\n",
    "        lonaxis = dict(\n",
    "            showgrid = True,\n",
    "            gridwidth = 0.5,\n",
    "            range= [ 151.1, 151.35 ],\n",
    "            dtick = 5\n",
    "        ),\n",
    "        lataxis = dict (\n",
    "            showgrid = True,\n",
    "            gridwidth = 0.5,\n",
    "            range= [ -33.95, -33.75 ],\n",
    "            dtick = 5\n",
    "        )\n",
    "        ),\n",
    "    )\n",
    "\n",
    "fig = dict( data=listings, layout=layout )\n",
    "\n",
    "iplot(fig)"
   ]
  },
  {
   "cell_type": "code",
   "execution_count": null,
   "metadata": {
    "collapsed": true
   },
   "outputs": [],
   "source": []
  },
  {
   "cell_type": "code",
   "execution_count": null,
   "metadata": {
    "collapsed": true
   },
   "outputs": [],
   "source": []
  },
  {
   "cell_type": "code",
   "execution_count": null,
   "metadata": {
    "collapsed": true
   },
   "outputs": [],
   "source": []
  },
  {
   "cell_type": "code",
   "execution_count": null,
   "metadata": {
    "collapsed": false
   },
   "outputs": [],
   "source": []
  },
  {
   "cell_type": "code",
   "execution_count": null,
   "metadata": {
    "collapsed": false
   },
   "outputs": [],
   "source": []
  },
  {
   "cell_type": "code",
   "execution_count": null,
   "metadata": {
    "collapsed": false
   },
   "outputs": [],
   "source": []
  },
  {
   "cell_type": "code",
   "execution_count": null,
   "metadata": {
    "collapsed": true
   },
   "outputs": [],
   "source": []
  }
 ],
 "metadata": {
  "kernelspec": {
   "display_name": "Python 2",
   "language": "python",
   "name": "python2"
  },
  "language_info": {
   "codemirror_mode": {
    "name": "ipython",
    "version": 2
   },
   "file_extension": ".py",
   "mimetype": "text/x-python",
   "name": "python",
   "nbconvert_exporter": "python",
   "pygments_lexer": "ipython2",
   "version": "2.7.11"
  }
 },
 "nbformat": 4,
 "nbformat_minor": 0
}
